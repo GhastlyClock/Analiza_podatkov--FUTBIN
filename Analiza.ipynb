{
 "cells": [
  {
   "cell_type": "markdown",
   "metadata": {},
   "source": [
    "# PROJEKTNA NALOGA"
   ]
  },
  {
   "cell_type": "markdown",
   "metadata": {},
   "source": [
    "Uvod\n",
    "--------\n",
    "\n",
    "V projektni nalogi bom analiziral podatke iz igre *Fifa 19*, povzetih po strani [FUTBIN](https://www.futbin.com).  \n",
    "  \n",
    "Naj predstavim potek dela. Na začetku, bom predstavil podatke, da se z njimi pobližje spoznamo in dobimo pravi občutek, s čim imamo opravka. Nato bomo pregledali tiste osnovne podatke iz različnih kategorij. Za tem se bomo osredotočili na pozicije igralcev in analizirali te podatke. Za konec pa bomo pogledali še vse sposobnosti, ki bi lahko vplivale na ceno igralcev."
   ]
  },
  {
   "cell_type": "markdown",
   "metadata": {},
   "source": [
    "Predpriprava\n",
    "-------------------"
   ]
  },
  {
   "cell_type": "code",
   "execution_count": 1,
   "metadata": {},
   "outputs": [],
   "source": [
    "# Naložim vse potrebne pakete\n",
    "import pandas as pd\n",
    "import matplotlib.pyplot as plt\n",
    "import numpy as np\n",
    "\n",
    "%matplotlib notebook"
   ]
  },
  {
   "cell_type": "code",
   "execution_count": 2,
   "metadata": {},
   "outputs": [],
   "source": [
    "# Ker delam z veliko podatki omejim število prikazanih vrstic in stolpcev\n",
    "pd.options.display.max_rows = 20\n",
    "pd.options.display.max_columns = 10\n",
    "\n",
    "# Naložim razpledelnici s katerima bom delal (oblika csv)\n",
    "igralci = pd.read_csv('podatki/igralci.csv')\n",
    "klubi = pd.read_csv('podatki/klubi.csv')\n",
    "\n",
    "# Združimo te podatke in jih indeksiramo po stolpcu \"id\"\n",
    "igralci = igralci.merge(klubi, on='id_kluba').set_index('id')"
   ]
  },
  {
   "cell_type": "markdown",
   "metadata": {},
   "source": [
    "Predstavitev podatkov\n",
    "--------------------------------\n",
    "\n",
    "Začnimo z enostavnimi pogledi na podatke, da dobimo nekaj občutka, s kakšnimi podatki bomo imeli opravka."
   ]
  },
  {
   "cell_type": "code",
   "execution_count": 3,
   "metadata": {},
   "outputs": [
    {
     "data": {
      "text/html": [
       "<div>\n",
       "<style scoped>\n",
       "    .dataframe tbody tr th:only-of-type {\n",
       "        vertical-align: middle;\n",
       "    }\n",
       "\n",
       "    .dataframe tbody tr th {\n",
       "        vertical-align: top;\n",
       "    }\n",
       "\n",
       "    .dataframe thead th {\n",
       "        text-align: right;\n",
       "    }\n",
       "</style>\n",
       "<table border=\"1\" class=\"dataframe\">\n",
       "  <thead>\n",
       "    <tr style=\"text-align: right;\">\n",
       "      <th></th>\n",
       "      <th>ime</th>\n",
       "      <th>vzdevek</th>\n",
       "      <th>id_kluba</th>\n",
       "      <th>id_države</th>\n",
       "      <th>država</th>\n",
       "      <th>...</th>\n",
       "      <th>višina</th>\n",
       "      <th>popularnost</th>\n",
       "      <th>id_lige</th>\n",
       "      <th>liga</th>\n",
       "      <th>klub</th>\n",
       "    </tr>\n",
       "    <tr>\n",
       "      <th>id</th>\n",
       "      <th></th>\n",
       "      <th></th>\n",
       "      <th></th>\n",
       "      <th></th>\n",
       "      <th></th>\n",
       "      <th></th>\n",
       "      <th></th>\n",
       "      <th></th>\n",
       "      <th></th>\n",
       "      <th></th>\n",
       "      <th></th>\n",
       "    </tr>\n",
       "  </thead>\n",
       "  <tbody>\n",
       "    <tr>\n",
       "      <th>143</th>\n",
       "      <td>C. Ronaldo dos Santos Aveiro</td>\n",
       "      <td>Cristiano Ronaldo</td>\n",
       "      <td>45</td>\n",
       "      <td>38</td>\n",
       "      <td>Portugal</td>\n",
       "      <td>...</td>\n",
       "      <td>187</td>\n",
       "      <td>2617</td>\n",
       "      <td>31</td>\n",
       "      <td>Serie A TIM</td>\n",
       "      <td>Juventus</td>\n",
       "    </tr>\n",
       "    <tr>\n",
       "      <th>146</th>\n",
       "      <td>Giorgio Chiellini</td>\n",
       "      <td>NaN</td>\n",
       "      <td>45</td>\n",
       "      <td>27</td>\n",
       "      <td>Italy</td>\n",
       "      <td>...</td>\n",
       "      <td>187</td>\n",
       "      <td>336</td>\n",
       "      <td>31</td>\n",
       "      <td>Serie A TIM</td>\n",
       "      <td>Juventus</td>\n",
       "    </tr>\n",
       "    <tr>\n",
       "      <th>147</th>\n",
       "      <td>Paulo Dybala</td>\n",
       "      <td>NaN</td>\n",
       "      <td>45</td>\n",
       "      <td>52</td>\n",
       "      <td>Argentina</td>\n",
       "      <td>...</td>\n",
       "      <td>177</td>\n",
       "      <td>1521</td>\n",
       "      <td>31</td>\n",
       "      <td>Serie A TIM</td>\n",
       "      <td>Juventus</td>\n",
       "    </tr>\n",
       "    <tr>\n",
       "      <th>154</th>\n",
       "      <td>Douglas Costa de Souza</td>\n",
       "      <td>Douglas Costa</td>\n",
       "      <td>45</td>\n",
       "      <td>54</td>\n",
       "      <td>Brazil</td>\n",
       "      <td>...</td>\n",
       "      <td>172</td>\n",
       "      <td>597</td>\n",
       "      <td>31</td>\n",
       "      <td>Serie A TIM</td>\n",
       "      <td>Juventus</td>\n",
       "    </tr>\n",
       "    <tr>\n",
       "      <th>155</th>\n",
       "      <td>Alex Sandro Lobo Silva</td>\n",
       "      <td>Alex Sandro</td>\n",
       "      <td>45</td>\n",
       "      <td>54</td>\n",
       "      <td>Brazil</td>\n",
       "      <td>...</td>\n",
       "      <td>180</td>\n",
       "      <td>909</td>\n",
       "      <td>31</td>\n",
       "      <td>Serie A TIM</td>\n",
       "      <td>Juventus</td>\n",
       "    </tr>\n",
       "    <tr>\n",
       "      <th>157</th>\n",
       "      <td>Leonardo Bonucci</td>\n",
       "      <td>NaN</td>\n",
       "      <td>45</td>\n",
       "      <td>27</td>\n",
       "      <td>Italy</td>\n",
       "      <td>...</td>\n",
       "      <td>190</td>\n",
       "      <td>40</td>\n",
       "      <td>31</td>\n",
       "      <td>Serie A TIM</td>\n",
       "      <td>Juventus</td>\n",
       "    </tr>\n",
       "    <tr>\n",
       "      <th>158</th>\n",
       "      <td>Medhi Benatia</td>\n",
       "      <td>NaN</td>\n",
       "      <td>45</td>\n",
       "      <td>129</td>\n",
       "      <td>Morocco</td>\n",
       "      <td>...</td>\n",
       "      <td>189</td>\n",
       "      <td>228</td>\n",
       "      <td>31</td>\n",
       "      <td>Serie A TIM</td>\n",
       "      <td>Juventus</td>\n",
       "    </tr>\n",
       "    <tr>\n",
       "      <th>159</th>\n",
       "      <td>Miralem Pjanic</td>\n",
       "      <td>NaN</td>\n",
       "      <td>45</td>\n",
       "      <td>8</td>\n",
       "      <td>Bosnia and Herzegovina</td>\n",
       "      <td>...</td>\n",
       "      <td>178</td>\n",
       "      <td>39</td>\n",
       "      <td>31</td>\n",
       "      <td>Serie A TIM</td>\n",
       "      <td>Juventus</td>\n",
       "    </tr>\n",
       "    <tr>\n",
       "      <th>163</th>\n",
       "      <td>Sami Khedira</td>\n",
       "      <td>NaN</td>\n",
       "      <td>45</td>\n",
       "      <td>21</td>\n",
       "      <td>Germany</td>\n",
       "      <td>...</td>\n",
       "      <td>189</td>\n",
       "      <td>11</td>\n",
       "      <td>31</td>\n",
       "      <td>Serie A TIM</td>\n",
       "      <td>Juventus</td>\n",
       "    </tr>\n",
       "    <tr>\n",
       "      <th>166</th>\n",
       "      <td>Blaise Matuidi</td>\n",
       "      <td>NaN</td>\n",
       "      <td>45</td>\n",
       "      <td>18</td>\n",
       "      <td>France</td>\n",
       "      <td>...</td>\n",
       "      <td>180</td>\n",
       "      <td>754</td>\n",
       "      <td>31</td>\n",
       "      <td>Serie A TIM</td>\n",
       "      <td>Juventus</td>\n",
       "    </tr>\n",
       "    <tr>\n",
       "      <th>...</th>\n",
       "      <td>...</td>\n",
       "      <td>...</td>\n",
       "      <td>...</td>\n",
       "      <td>...</td>\n",
       "      <td>...</td>\n",
       "      <td>...</td>\n",
       "      <td>...</td>\n",
       "      <td>...</td>\n",
       "      <td>...</td>\n",
       "      <td>...</td>\n",
       "      <td>...</td>\n",
       "    </tr>\n",
       "    <tr>\n",
       "      <th>13838</th>\n",
       "      <td>Constantin Budescu</td>\n",
       "      <td>NaN</td>\n",
       "      <td>111674</td>\n",
       "      <td>39</td>\n",
       "      <td>Romania</td>\n",
       "      <td>...</td>\n",
       "      <td>184</td>\n",
       "      <td>14</td>\n",
       "      <td>350</td>\n",
       "      <td>Saudi Professional League</td>\n",
       "      <td>Al Shabab</td>\n",
       "    </tr>\n",
       "    <tr>\n",
       "      <th>13865</th>\n",
       "      <td>Tomáš Souček</td>\n",
       "      <td>NaN</td>\n",
       "      <td>266</td>\n",
       "      <td>12</td>\n",
       "      <td>Czech Republic</td>\n",
       "      <td>...</td>\n",
       "      <td>192</td>\n",
       "      <td>-2</td>\n",
       "      <td>319</td>\n",
       "      <td>Česká Liga</td>\n",
       "      <td>Slavia Praha</td>\n",
       "    </tr>\n",
       "    <tr>\n",
       "      <th>14044</th>\n",
       "      <td>Alexandru Bălută</td>\n",
       "      <td>NaN</td>\n",
       "      <td>266</td>\n",
       "      <td>39</td>\n",
       "      <td>Romania</td>\n",
       "      <td>...</td>\n",
       "      <td>166</td>\n",
       "      <td>3</td>\n",
       "      <td>319</td>\n",
       "      <td>Česká Liga</td>\n",
       "      <td>Slavia Praha</td>\n",
       "    </tr>\n",
       "    <tr>\n",
       "      <th>14084</th>\n",
       "      <td>Milan Škoda</td>\n",
       "      <td>NaN</td>\n",
       "      <td>266</td>\n",
       "      <td>12</td>\n",
       "      <td>Czech Republic</td>\n",
       "      <td>...</td>\n",
       "      <td>190</td>\n",
       "      <td>2</td>\n",
       "      <td>319</td>\n",
       "      <td>Česká Liga</td>\n",
       "      <td>Slavia Praha</td>\n",
       "    </tr>\n",
       "    <tr>\n",
       "      <th>14091</th>\n",
       "      <td>Miroslav Stoch</td>\n",
       "      <td>NaN</td>\n",
       "      <td>266</td>\n",
       "      <td>43</td>\n",
       "      <td>Slovakia</td>\n",
       "      <td>...</td>\n",
       "      <td>169</td>\n",
       "      <td>7</td>\n",
       "      <td>319</td>\n",
       "      <td>Česká Liga</td>\n",
       "      <td>Slavia Praha</td>\n",
       "    </tr>\n",
       "    <tr>\n",
       "      <th>14198</th>\n",
       "      <td>Jan Bořil</td>\n",
       "      <td>NaN</td>\n",
       "      <td>266</td>\n",
       "      <td>12</td>\n",
       "      <td>Czech Republic</td>\n",
       "      <td>...</td>\n",
       "      <td>175</td>\n",
       "      <td>2</td>\n",
       "      <td>319</td>\n",
       "      <td>Česká Liga</td>\n",
       "      <td>Slavia Praha</td>\n",
       "    </tr>\n",
       "    <tr>\n",
       "      <th>14275</th>\n",
       "      <td>Simon Deli</td>\n",
       "      <td>NaN</td>\n",
       "      <td>266</td>\n",
       "      <td>108</td>\n",
       "      <td>Côte d'Ivoire</td>\n",
       "      <td>...</td>\n",
       "      <td>192</td>\n",
       "      <td>1</td>\n",
       "      <td>319</td>\n",
       "      <td>Česká Liga</td>\n",
       "      <td>Slavia Praha</td>\n",
       "    </tr>\n",
       "    <tr>\n",
       "      <th>14324</th>\n",
       "      <td>Vladimír Coufal</td>\n",
       "      <td>NaN</td>\n",
       "      <td>266</td>\n",
       "      <td>12</td>\n",
       "      <td>Czech Republic</td>\n",
       "      <td>...</td>\n",
       "      <td>175</td>\n",
       "      <td>-2</td>\n",
       "      <td>319</td>\n",
       "      <td>Česká Liga</td>\n",
       "      <td>Slavia Praha</td>\n",
       "    </tr>\n",
       "    <tr>\n",
       "      <th>14209</th>\n",
       "      <td>José Rodríguez Martínez</td>\n",
       "      <td>José Rodríguez</td>\n",
       "      <td>634</td>\n",
       "      <td>45</td>\n",
       "      <td>Spain</td>\n",
       "      <td>...</td>\n",
       "      <td>180</td>\n",
       "      <td>2</td>\n",
       "      <td>10</td>\n",
       "      <td>Eredivisie</td>\n",
       "      <td>Fortuna Sittard</td>\n",
       "    </tr>\n",
       "    <tr>\n",
       "      <th>14223</th>\n",
       "      <td>Ezequiel Videla</td>\n",
       "      <td>NaN</td>\n",
       "      <td>111707</td>\n",
       "      <td>52</td>\n",
       "      <td>Argentina</td>\n",
       "      <td>...</td>\n",
       "      <td>175</td>\n",
       "      <td>1</td>\n",
       "      <td>353</td>\n",
       "      <td>SAF</td>\n",
       "      <td>Club Atlético Aldosivi</td>\n",
       "    </tr>\n",
       "  </tbody>\n",
       "</table>\n",
       "<p>3000 rows × 21 columns</p>\n",
       "</div>"
      ],
      "text/plain": [
       "                                ime            vzdevek  id_kluba  id_države  \\\n",
       "id                                                                            \n",
       "143    C. Ronaldo dos Santos Aveiro  Cristiano Ronaldo        45         38   \n",
       "146               Giorgio Chiellini                NaN        45         27   \n",
       "147                    Paulo Dybala                NaN        45         52   \n",
       "154          Douglas Costa de Souza      Douglas Costa        45         54   \n",
       "155          Alex Sandro Lobo Silva        Alex Sandro        45         54   \n",
       "157                Leonardo Bonucci                NaN        45         27   \n",
       "158                   Medhi Benatia                NaN        45        129   \n",
       "159                  Miralem Pjanic                NaN        45          8   \n",
       "163                    Sami Khedira                NaN        45         21   \n",
       "166                  Blaise Matuidi                NaN        45         18   \n",
       "...                             ...                ...       ...        ...   \n",
       "13838            Constantin Budescu                NaN    111674         39   \n",
       "13865                  Tomáš Souček                NaN       266         12   \n",
       "14044              Alexandru Bălută                NaN       266         39   \n",
       "14084                   Milan Škoda                NaN       266         12   \n",
       "14091                Miroslav Stoch                NaN       266         43   \n",
       "14198                     Jan Bořil                NaN       266         12   \n",
       "14275                    Simon Deli                NaN       266        108   \n",
       "14324               Vladimír Coufal                NaN       266         12   \n",
       "14209       José Rodríguez Martínez     José Rodríguez       634         45   \n",
       "14223               Ezequiel Videla                NaN    111707         52   \n",
       "\n",
       "                       država           ...            višina popularnost  \\\n",
       "id                                      ...                                 \n",
       "143                  Portugal           ...               187        2617   \n",
       "146                     Italy           ...               187         336   \n",
       "147                 Argentina           ...               177        1521   \n",
       "154                    Brazil           ...               172         597   \n",
       "155                    Brazil           ...               180         909   \n",
       "157                     Italy           ...               190          40   \n",
       "158                   Morocco           ...               189         228   \n",
       "159    Bosnia and Herzegovina           ...               178          39   \n",
       "163                   Germany           ...               189          11   \n",
       "166                    France           ...               180         754   \n",
       "...                       ...           ...               ...         ...   \n",
       "13838                 Romania           ...               184          14   \n",
       "13865          Czech Republic           ...               192          -2   \n",
       "14044                 Romania           ...               166           3   \n",
       "14084          Czech Republic           ...               190           2   \n",
       "14091                Slovakia           ...               169           7   \n",
       "14198          Czech Republic           ...               175           2   \n",
       "14275           Côte d'Ivoire           ...               192           1   \n",
       "14324          Czech Republic           ...               175          -2   \n",
       "14209                   Spain           ...               180           2   \n",
       "14223               Argentina           ...               175           1   \n",
       "\n",
       "       id_lige                       liga                    klub  \n",
       "id                                                                 \n",
       "143         31                Serie A TIM                Juventus  \n",
       "146         31                Serie A TIM                Juventus  \n",
       "147         31                Serie A TIM                Juventus  \n",
       "154         31                Serie A TIM                Juventus  \n",
       "155         31                Serie A TIM                Juventus  \n",
       "157         31                Serie A TIM                Juventus  \n",
       "158         31                Serie A TIM                Juventus  \n",
       "159         31                Serie A TIM                Juventus  \n",
       "163         31                Serie A TIM                Juventus  \n",
       "166         31                Serie A TIM                Juventus  \n",
       "...        ...                        ...                     ...  \n",
       "13838      350  Saudi Professional League               Al Shabab  \n",
       "13865      319                 Česká Liga            Slavia Praha  \n",
       "14044      319                 Česká Liga            Slavia Praha  \n",
       "14084      319                 Česká Liga            Slavia Praha  \n",
       "14091      319                 Česká Liga            Slavia Praha  \n",
       "14198      319                 Česká Liga            Slavia Praha  \n",
       "14275      319                 Česká Liga            Slavia Praha  \n",
       "14324      319                 Česká Liga            Slavia Praha  \n",
       "14209       10                 Eredivisie         Fortuna Sittard  \n",
       "14223      353                        SAF  Club Atlético Aldosivi  \n",
       "\n",
       "[3000 rows x 21 columns]"
      ]
     },
     "execution_count": 3,
     "metadata": {},
     "output_type": "execute_result"
    }
   ],
   "source": [
    "igralci"
   ]
  },
  {
   "cell_type": "markdown",
   "metadata": {},
   "source": [
    "Tako pa naj bi izgledal povprečen igralec."
   ]
  },
  {
   "cell_type": "code",
   "execution_count": 4,
   "metadata": {},
   "outputs": [
    {
     "data": {
      "text/plain": [
       "cena           4334.916667\n",
       "dribling         71.430333\n",
       "fizika           70.777667\n",
       "hitrost          70.393667\n",
       "id_lige         154.986667\n",
       "obramba          59.243333\n",
       "ocena            76.146333\n",
       "podaje           67.327000\n",
       "popularnost      46.120333\n",
       "spretnost         3.002667\n",
       "strel            62.088333\n",
       "višina          180.927667\n",
       "šibka_noga        3.193667\n",
       "dtype: float64"
      ]
     },
     "execution_count": 4,
     "metadata": {},
     "output_type": "execute_result"
    }
   ],
   "source": [
    "igralci[igralci.columns.difference(['id_kluba', 'id_države'])].mean()"
   ]
  },
  {
   "cell_type": "markdown",
   "metadata": {},
   "source": [
    "Poglejmo še število igralcev na različnih pozicijah.\n",
    "\n",
    "Pojasnilo oznak:\n",
    "* CB: Center-back\n",
    "* LWB: Left winger-back\n",
    "* RWB: Right winger-back\n",
    "* LB: Left-back (Full-back)\n",
    "* RB: Right-back (Full-back)\n",
    "* CM : Centre midfield\n",
    "* CDM: Centre defensive midfield\n",
    "* CAM: Centre attacking midfield\n",
    "* LM : Left midfield\n",
    "* RM : Right midfield\n",
    "* ST: Striker\n",
    "* CF: Center forward\n",
    "* LW: Left winger\n",
    "* RW: Right winger\n",
    "\n",
    "Ker vem, da te kratice, niti pojasnilo oznak verjetno nekomu, ki se s tem še ni srečal, ne pove veliko. Zato prilagam tudi sliko, ki upam da bo ta problem pojasnila.\n",
    "![Pozicije](pozicije.jpg)"
   ]
  },
  {
   "cell_type": "code",
   "execution_count": 5,
   "metadata": {},
   "outputs": [
    {
     "data": {
      "text/plain": [
       "pozicija\n",
       "CB     600\n",
       "ST     473\n",
       "CM     398\n",
       "CDM    295\n",
       "CAM    228\n",
       "RB     213\n",
       "LB     203\n",
       "RM     198\n",
       "LM     188\n",
       "RW      80\n",
       "LW      78\n",
       "CF      29\n",
       "LWB     10\n",
       "RWB      7\n",
       "dtype: int64"
      ]
     },
     "execution_count": 5,
     "metadata": {},
     "output_type": "execute_result"
    }
   ],
   "source": [
    "igralci.groupby('pozicija').size().sort_values(ascending=False)"
   ]
  },
  {
   "cell_type": "code",
   "execution_count": 6,
   "metadata": {
    "scrolled": false
   },
   "outputs": [
    {
     "data": {
      "text/plain": [
       "<matplotlib.axes._subplots.AxesSubplot at 0x7f2a57b10128>"
      ]
     },
     "execution_count": 6,
     "metadata": {},
     "output_type": "execute_result"
    },
    {
     "data": {
      "image/png": "[encoded data removed]",
      "text/plain": [
       "<Figure size 432x288 with 1 Axes>"
      ]
     },
     "metadata": {
      "needs_background": "light"
     },
     "output_type": "display_data"
    }
   ],
   "source": [
    "# Še grafični prikaz tega podatka\n",
    "igralci.groupby('pozicija').size().sort_values(ascending=False).plot(kind='bar')"
   ]
  },
  {
   "cell_type": "markdown",
   "metadata": {},
   "source": [
    "Zanimivo se mi zdi, da je število igralcev na različnih pozicijah tako različno. Vendar bi se to dalo pojasniti tako, da vsaka ekipa načeloma vedno igra z igralci na pozicijah CB, ST, CM, ki po vrsti spadajo na osnovni položaj branilca, napadalca in osrednjega vezista. Torej mesta, kot so RW, LWB pa so le nekakšna \"različica\" položajev RM, LB, le malo drugačno so usmerjeni na igrišču, le takih pa, kot je iz tabele razvidno, očitno ni v takem številu, kot tistih na osnovnih položajih."
   ]
  },
  {
   "cell_type": "markdown",
   "metadata": {},
   "source": [
    "Osnovni pogled\n",
    "-----------------------"
   ]
  },
  {
   "cell_type": "markdown",
   "metadata": {},
   "source": [
    "Pogled 10 najboljših igralcev v najpomembnejših kategorijah (ocena, cena, popularnost)"
   ]
  },
  {
   "cell_type": "code",
   "execution_count": 7,
   "metadata": {},
   "outputs": [
    {
     "data": {
      "text/html": [
       "<div>\n",
       "<style scoped>\n",
       "    .dataframe tbody tr th:only-of-type {\n",
       "        vertical-align: middle;\n",
       "    }\n",
       "\n",
       "    .dataframe tbody tr th {\n",
       "        vertical-align: top;\n",
       "    }\n",
       "\n",
       "    .dataframe thead th {\n",
       "        text-align: right;\n",
       "    }\n",
       "</style>\n",
       "<table border=\"1\" class=\"dataframe\">\n",
       "  <thead>\n",
       "    <tr style=\"text-align: right;\">\n",
       "      <th></th>\n",
       "      <th>ime</th>\n",
       "      <th>ocena</th>\n",
       "    </tr>\n",
       "    <tr>\n",
       "      <th>id</th>\n",
       "      <th></th>\n",
       "      <th></th>\n",
       "    </tr>\n",
       "  </thead>\n",
       "  <tbody>\n",
       "    <tr>\n",
       "      <th>143</th>\n",
       "      <td>C. Ronaldo dos Santos Aveiro</td>\n",
       "      <td>94</td>\n",
       "    </tr>\n",
       "    <tr>\n",
       "      <th>341</th>\n",
       "      <td>Lionel Messi</td>\n",
       "      <td>94</td>\n",
       "    </tr>\n",
       "    <tr>\n",
       "      <th>846</th>\n",
       "      <td>Neymar da Silva Santos Jr.</td>\n",
       "      <td>92</td>\n",
       "    </tr>\n",
       "    <tr>\n",
       "      <th>594</th>\n",
       "      <td>Sergio Ramos García</td>\n",
       "      <td>91</td>\n",
       "    </tr>\n",
       "    <tr>\n",
       "      <th>343</th>\n",
       "      <td>Luis Suárez</td>\n",
       "      <td>91</td>\n",
       "    </tr>\n",
       "    <tr>\n",
       "      <th>385</th>\n",
       "      <td>Eden Hazard</td>\n",
       "      <td>91</td>\n",
       "    </tr>\n",
       "    <tr>\n",
       "      <th>291</th>\n",
       "      <td>Kevin De Bruyne</td>\n",
       "      <td>91</td>\n",
       "    </tr>\n",
       "    <tr>\n",
       "      <th>592</th>\n",
       "      <td>Luka Modric</td>\n",
       "      <td>91</td>\n",
       "    </tr>\n",
       "    <tr>\n",
       "      <th>596</th>\n",
       "      <td>Toni Kroos</td>\n",
       "      <td>90</td>\n",
       "    </tr>\n",
       "    <tr>\n",
       "      <th>418</th>\n",
       "      <td>Robert Lewandowski</td>\n",
       "      <td>90</td>\n",
       "    </tr>\n",
       "  </tbody>\n",
       "</table>\n",
       "</div>"
      ],
      "text/plain": [
       "                              ime  ocena\n",
       "id                                      \n",
       "143  C. Ronaldo dos Santos Aveiro     94\n",
       "341                  Lionel Messi     94\n",
       "846    Neymar da Silva Santos Jr.     92\n",
       "594           Sergio Ramos García     91\n",
       "343                   Luis Suárez     91\n",
       "385                   Eden Hazard     91\n",
       "291               Kevin De Bruyne     91\n",
       "592                   Luka Modric     91\n",
       "596                    Toni Kroos     90\n",
       "418            Robert Lewandowski     90"
      ]
     },
     "execution_count": 7,
     "metadata": {},
     "output_type": "execute_result"
    }
   ],
   "source": [
    "igralci.sort_values('ocena', ascending=False,)[['ime', 'ocena']][:10]"
   ]
  },
  {
   "cell_type": "code",
   "execution_count": 8,
   "metadata": {},
   "outputs": [
    {
     "data": {
      "text/html": [
       "<div>\n",
       "<style scoped>\n",
       "    .dataframe tbody tr th:only-of-type {\n",
       "        vertical-align: middle;\n",
       "    }\n",
       "\n",
       "    .dataframe tbody tr th {\n",
       "        vertical-align: top;\n",
       "    }\n",
       "\n",
       "    .dataframe thead th {\n",
       "        text-align: right;\n",
       "    }\n",
       "</style>\n",
       "<table border=\"1\" class=\"dataframe\">\n",
       "  <thead>\n",
       "    <tr style=\"text-align: right;\">\n",
       "      <th></th>\n",
       "      <th>ime</th>\n",
       "      <th>cena</th>\n",
       "    </tr>\n",
       "    <tr>\n",
       "      <th>id</th>\n",
       "      <th></th>\n",
       "      <th></th>\n",
       "    </tr>\n",
       "  </thead>\n",
       "  <tbody>\n",
       "    <tr>\n",
       "      <th>143</th>\n",
       "      <td>C. Ronaldo dos Santos Aveiro</td>\n",
       "      <td>2430000</td>\n",
       "    </tr>\n",
       "    <tr>\n",
       "      <th>341</th>\n",
       "      <td>Lionel Messi</td>\n",
       "      <td>870000</td>\n",
       "    </tr>\n",
       "    <tr>\n",
       "      <th>846</th>\n",
       "      <td>Neymar da Silva Santos Jr.</td>\n",
       "      <td>616000</td>\n",
       "    </tr>\n",
       "    <tr>\n",
       "      <th>386</th>\n",
       "      <td>N'Golo Kanté</td>\n",
       "      <td>376000</td>\n",
       "    </tr>\n",
       "    <tr>\n",
       "      <th>854</th>\n",
       "      <td>Kylian Mbappe Lottin</td>\n",
       "      <td>364000</td>\n",
       "    </tr>\n",
       "    <tr>\n",
       "      <th>242</th>\n",
       "      <td>Paul Pogba</td>\n",
       "      <td>363000</td>\n",
       "    </tr>\n",
       "    <tr>\n",
       "      <th>385</th>\n",
       "      <td>Eden Hazard</td>\n",
       "      <td>302000</td>\n",
       "    </tr>\n",
       "    <tr>\n",
       "      <th>602</th>\n",
       "      <td>Gareth Bale</td>\n",
       "      <td>300000</td>\n",
       "    </tr>\n",
       "    <tr>\n",
       "      <th>291</th>\n",
       "      <td>Kevin De Bruyne</td>\n",
       "      <td>284000</td>\n",
       "    </tr>\n",
       "    <tr>\n",
       "      <th>343</th>\n",
       "      <td>Luis Suárez</td>\n",
       "      <td>257000</td>\n",
       "    </tr>\n",
       "  </tbody>\n",
       "</table>\n",
       "</div>"
      ],
      "text/plain": [
       "                              ime     cena\n",
       "id                                        \n",
       "143  C. Ronaldo dos Santos Aveiro  2430000\n",
       "341                  Lionel Messi   870000\n",
       "846    Neymar da Silva Santos Jr.   616000\n",
       "386                  N'Golo Kanté   376000\n",
       "854          Kylian Mbappe Lottin   364000\n",
       "242                    Paul Pogba   363000\n",
       "385                   Eden Hazard   302000\n",
       "602                   Gareth Bale   300000\n",
       "291               Kevin De Bruyne   284000\n",
       "343                   Luis Suárez   257000"
      ]
     },
     "execution_count": 8,
     "metadata": {},
     "output_type": "execute_result"
    }
   ],
   "source": [
    "igralci.sort_values('cena', ascending=False,)[['ime', 'cena']][:10]"
   ]
  },
  {
   "cell_type": "code",
   "execution_count": 9,
   "metadata": {},
   "outputs": [
    {
     "data": {
      "text/html": [
       "<div>\n",
       "<style scoped>\n",
       "    .dataframe tbody tr th:only-of-type {\n",
       "        vertical-align: middle;\n",
       "    }\n",
       "\n",
       "    .dataframe tbody tr th {\n",
       "        vertical-align: top;\n",
       "    }\n",
       "\n",
       "    .dataframe thead th {\n",
       "        text-align: right;\n",
       "    }\n",
       "</style>\n",
       "<table border=\"1\" class=\"dataframe\">\n",
       "  <thead>\n",
       "    <tr style=\"text-align: right;\">\n",
       "      <th></th>\n",
       "      <th>ime</th>\n",
       "      <th>popularnost</th>\n",
       "    </tr>\n",
       "    <tr>\n",
       "      <th>id</th>\n",
       "      <th></th>\n",
       "      <th></th>\n",
       "    </tr>\n",
       "  </thead>\n",
       "  <tbody>\n",
       "    <tr>\n",
       "      <th>854</th>\n",
       "      <td>Kylian Mbappe Lottin</td>\n",
       "      <td>3640</td>\n",
       "    </tr>\n",
       "    <tr>\n",
       "      <th>562</th>\n",
       "      <td>Pierre-Emerick Aubameyang</td>\n",
       "      <td>2883</td>\n",
       "    </tr>\n",
       "    <tr>\n",
       "      <th>470</th>\n",
       "      <td>Fábio Henrique Tavares</td>\n",
       "      <td>2863</td>\n",
       "    </tr>\n",
       "    <tr>\n",
       "      <th>386</th>\n",
       "      <td>N'Golo Kanté</td>\n",
       "      <td>2650</td>\n",
       "    </tr>\n",
       "    <tr>\n",
       "      <th>143</th>\n",
       "      <td>C. Ronaldo dos Santos Aveiro</td>\n",
       "      <td>2617</td>\n",
       "    </tr>\n",
       "    <tr>\n",
       "      <th>242</th>\n",
       "      <td>Paul Pogba</td>\n",
       "      <td>2484</td>\n",
       "    </tr>\n",
       "    <tr>\n",
       "      <th>341</th>\n",
       "      <td>Lionel Messi</td>\n",
       "      <td>2294</td>\n",
       "    </tr>\n",
       "    <tr>\n",
       "      <th>525</th>\n",
       "      <td>Heung Min Son</td>\n",
       "      <td>2083</td>\n",
       "    </tr>\n",
       "    <tr>\n",
       "      <th>469</th>\n",
       "      <td>Virgil van Dijk</td>\n",
       "      <td>2055</td>\n",
       "    </tr>\n",
       "    <tr>\n",
       "      <th>846</th>\n",
       "      <td>Neymar da Silva Santos Jr.</td>\n",
       "      <td>1817</td>\n",
       "    </tr>\n",
       "  </tbody>\n",
       "</table>\n",
       "</div>"
      ],
      "text/plain": [
       "                              ime  popularnost\n",
       "id                                            \n",
       "854          Kylian Mbappe Lottin         3640\n",
       "562     Pierre-Emerick Aubameyang         2883\n",
       "470        Fábio Henrique Tavares         2863\n",
       "386                  N'Golo Kanté         2650\n",
       "143  C. Ronaldo dos Santos Aveiro         2617\n",
       "242                    Paul Pogba         2484\n",
       "341                  Lionel Messi         2294\n",
       "525                 Heung Min Son         2083\n",
       "469               Virgil van Dijk         2055\n",
       "846    Neymar da Silva Santos Jr.         1817"
      ]
     },
     "execution_count": 9,
     "metadata": {},
     "output_type": "execute_result"
    }
   ],
   "source": [
    "igralci.sort_values('popularnost', ascending=False,)[['ime', 'popularnost']][:10]"
   ]
  },
  {
   "cell_type": "markdown",
   "metadata": {},
   "source": [
    "Opazimo, da se v vseh treh tabelah pojavljajo isti igralci, zato me zanima, kakšna je povezava med njimi, če le ta obstaja."
   ]
  },
  {
   "cell_type": "code",
   "execution_count": 10,
   "metadata": {},
   "outputs": [
    {
     "data": {
      "text/plain": [
       "<matplotlib.axes._subplots.AxesSubplot at 0x7f2a57a70240>"
      ]
     },
     "execution_count": 10,
     "metadata": {},
     "output_type": "execute_result"
    },
    {
     "data": {
      "image/png": "[encoded data removed]",
      "text/plain": [
       "<Figure size 432x288 with 1 Axes>"
      ]
     },
     "metadata": {
      "needs_background": "light"
     },
     "output_type": "display_data"
    }
   ],
   "source": [
    "igralci.plot(y='cena',x='popularnost',kind='scatter')"
   ]
  },
  {
   "cell_type": "markdown",
   "metadata": {},
   "source": [
    "Lahko je opaziti, da popularnost nekoliko res vpliva na ceno, vendar pa tudi ni res da so najdražji igralci tudi najbolj popularni. Lahko bi rekli, da so igralci, ki so cenovno še dostopni; torej v mislih imam tiste do 500000; tudi najbolj popularni, saj bi sklepal, da so le te tudi po oceni nekoliko višji od ostalih, kar bom preveril v nadaljevanu."
   ]
  },
  {
   "cell_type": "code",
   "execution_count": 11,
   "metadata": {},
   "outputs": [
    {
     "data": {
      "text/plain": [
       "<matplotlib.axes._subplots.AxesSubplot at 0x7f2a579f03c8>"
      ]
     },
     "execution_count": 11,
     "metadata": {},
     "output_type": "execute_result"
    },
    {
     "data": {
      "image/png": "[encoded data removed]",
      "text/plain": [
       "<Figure size 432x288 with 1 Axes>"
      ]
     },
     "metadata": {
      "needs_background": "light"
     },
     "output_type": "display_data"
    }
   ],
   "source": [
    "igralci.plot(y='popularnost',x='ocena',kind='scatter')"
   ]
  },
  {
   "cell_type": "markdown",
   "metadata": {},
   "source": [
    "Kot sem že pravilno sklepal zgoraj se popularnost res začne višati pri igralcih z malo nadpovprečno oceno, če iz grafa razberem, bi bilo to približno pri oceni 82. Iz tega pa lahko sledi še en sklep; mislil bi si lahko, da bo tudi cena lahko začela naraščati ravno pri tej meji. Preverimo še to."
   ]
  },
  {
   "cell_type": "code",
   "execution_count": 12,
   "metadata": {},
   "outputs": [
    {
     "data": {
      "text/plain": [
       "<matplotlib.axes._subplots.AxesSubplot at 0x7f2a579cec50>"
      ]
     },
     "execution_count": 12,
     "metadata": {},
     "output_type": "execute_result"
    },
    {
     "data": {
      "image/png": "[encoded data removed]",
      "text/plain": [
       "<Figure size 432x288 with 1 Axes>"
      ]
     },
     "metadata": {
      "needs_background": "light"
     },
     "output_type": "display_data"
    }
   ],
   "source": [
    "igralci.plot(y='cena',x='ocena',kind='scatter')"
   ]
  },
  {
   "cell_type": "markdown",
   "metadata": {},
   "source": [
    "Ker iz tukaj ni čisto razvidno, kdaj približno začne rasti cena, saj ta pri najvišjih ocenah zelo iztopa, bom pogledal igralce, ki imajo oceno manjšo od 90, saj vidimo, da le en močno izstopa iz povprečja. Ker pa je iz grafa vseeno razvidno, da so bolje ocenjeni igralci vseeno več vredni in ker za naš sklep, le to ni tako pomembno, se bom osredotočil le na igralce z oceno med 79 in 90."
   ]
  },
  {
   "cell_type": "code",
   "execution_count": 13,
   "metadata": {},
   "outputs": [
    {
     "data": {
      "text/plain": [
       "<matplotlib.axes._subplots.AxesSubplot at 0x7f2a57929550>"
      ]
     },
     "execution_count": 13,
     "metadata": {},
     "output_type": "execute_result"
    },
    {
     "data": {
      "image/png": "[encoded data removed]",
      "text/plain": [
       "<Figure size 432x288 with 1 Axes>"
      ]
     },
     "metadata": {
      "needs_background": "light"
     },
     "output_type": "display_data"
    }
   ],
   "source": [
    "igralci[(igralci.ocena < 90) & (igralci.ocena > 79)].plot(y='cena',x='ocena',kind='scatter')"
   ]
  },
  {
   "cell_type": "markdown",
   "metadata": {},
   "source": [
    "Tukaj, je to malo bolj razvidno, saj cene res začno naraščati malo po tistih z ocenami 82, torej bi lahko sklepal, da cena res začne naraščati pri igralcih s približno enako oceno, kot popularnost. Torej so vse tri lastnosti res v sorazmerju ena z drugo."
   ]
  },
  {
   "cell_type": "markdown",
   "metadata": {},
   "source": [
    "Sedaj poglejmo še 10 lig z največ igralci."
   ]
  },
  {
   "cell_type": "code",
   "execution_count": 14,
   "metadata": {},
   "outputs": [
    {
     "data": {
      "text/plain": [
       "id_lige  liga             \n",
       "13       Premier League       380\n",
       "53       LaLiga Santander     358\n",
       "31       Serie A TIM          316\n",
       "19       Bundesliga           302\n",
       "16       Ligue 1 Conforama    256\n",
       "68       Süper Lig            145\n",
       "308      Liga NOS             137\n",
       "14       EFL Championship     113\n",
       "353      SAF                  111\n",
       "341      LIGA Bancomer MX     105\n",
       "                             ... \n",
       "1        Superliga             12\n",
       "17       Domino’s Ligue 2       9\n",
       "56       Allsvenskan            9\n",
       "351      Hyundai A-League       8\n",
       "317      Liga Hrvatska          6\n",
       "41       Eliteserien            5\n",
       "347      South African FL       4\n",
       "60       EFL League One         4\n",
       "66       Ekstraklasa            3\n",
       "83       K LEAGUE Classic       1\n",
       "Length: 38, dtype: int64"
      ]
     },
     "execution_count": 14,
     "metadata": {},
     "output_type": "execute_result"
    }
   ],
   "source": [
    "igralci.groupby(['id_lige', 'liga']).size().sort_values(ascending=False)"
   ]
  },
  {
   "cell_type": "markdown",
   "metadata": {},
   "source": [
    "Kako pa bi izgledala tabela, če jo razvrstimo po povprečju igralcev, ki igrajo v njej."
   ]
  },
  {
   "cell_type": "code",
   "execution_count": 15,
   "metadata": {},
   "outputs": [
    {
     "data": {
      "text/plain": [
       "id_lige  liga             \n",
       "13       Premier League       78.047368\n",
       "53       LaLiga Santander     77.851955\n",
       "2012     CSL                  77.687500\n",
       "31       Serie A TIM          77.316456\n",
       "19       Bundesliga           77.006623\n",
       "3006     League of Russia     76.525000\n",
       "308      Liga NOS             76.211679\n",
       "332      Ukrayina Liha        75.903226\n",
       "16       Ligue 1 Conforama    75.859375\n",
       "68       Süper Lig            75.289655\n",
       "                                ...    \n",
       "319      Česká Liga           73.777778\n",
       "347      South African FL     73.750000\n",
       "14       EFL Championship     73.681416\n",
       "17       Domino’s Ligue 2     73.666667\n",
       "32       Calcio B             73.619048\n",
       "54       LaLiga 1 I 2 I 3     73.555556\n",
       "41       Eliteserien          73.200000\n",
       "83       K LEAGUE Classic     73.000000\n",
       "56       Allsvenskan          72.888889\n",
       "60       EFL League One       72.750000\n",
       "Name: ocena, Length: 38, dtype: float64"
      ]
     },
     "execution_count": 15,
     "metadata": {},
     "output_type": "execute_result"
    }
   ],
   "source": [
    "povprecje_lige = igralci.groupby(['id_lige', 'liga'])['ocena'].mean()\n",
    "povprecje_lige.sort_values(ascending=False)"
   ]
  },
  {
   "cell_type": "markdown",
   "metadata": {},
   "source": [
    "Lahko bi se reklo, da se podatki skladajo z mojimi pričakovanji, saj so Premier League, LaLiga Santander, Serie A TIM itd. tudi v resnici najpopularneše, torej v njih igrajo tudi najbolši igralci. Presenečenje predstavlja le CSL, za katerega še nisem slišal. Preverimo, katera liga bi to lahko bila."
   ]
  },
  {
   "cell_type": "code",
   "execution_count": 16,
   "metadata": {},
   "outputs": [
    {
     "data": {
      "text/html": [
       "<div>\n",
       "<style scoped>\n",
       "    .dataframe tbody tr th:only-of-type {\n",
       "        vertical-align: middle;\n",
       "    }\n",
       "\n",
       "    .dataframe tbody tr th {\n",
       "        vertical-align: top;\n",
       "    }\n",
       "\n",
       "    .dataframe thead th {\n",
       "        text-align: right;\n",
       "    }\n",
       "</style>\n",
       "<table border=\"1\" class=\"dataframe\">\n",
       "  <thead>\n",
       "    <tr style=\"text-align: right;\">\n",
       "      <th></th>\n",
       "      <th>ocena</th>\n",
       "      <th>vzdevek</th>\n",
       "      <th>cena</th>\n",
       "    </tr>\n",
       "    <tr>\n",
       "      <th>ime</th>\n",
       "      <th></th>\n",
       "      <th></th>\n",
       "      <th></th>\n",
       "    </tr>\n",
       "  </thead>\n",
       "  <tbody>\n",
       "    <tr>\n",
       "      <th>José Paulo Bezerra M. Júnior</th>\n",
       "      <td>85</td>\n",
       "      <td>Paulinho</td>\n",
       "      <td>8000</td>\n",
       "    </tr>\n",
       "    <tr>\n",
       "      <th>Olívio da Rosa</th>\n",
       "      <td>74</td>\n",
       "      <td>Ivo</td>\n",
       "      <td>3400</td>\n",
       "    </tr>\n",
       "    <tr>\n",
       "      <th>Christian Bassogog</th>\n",
       "      <td>74</td>\n",
       "      <td>NaN</td>\n",
       "      <td>3000</td>\n",
       "    </tr>\n",
       "    <tr>\n",
       "      <th>Da Conceição Fernando Henrique</th>\n",
       "      <td>74</td>\n",
       "      <td>Fernandinho</td>\n",
       "      <td>2000</td>\n",
       "    </tr>\n",
       "    <tr>\n",
       "      <th>Renato Ribeiro Calixto</th>\n",
       "      <td>74</td>\n",
       "      <td>Renatinho</td>\n",
       "      <td>1600</td>\n",
       "    </tr>\n",
       "    <tr>\n",
       "      <th>Yannick Carrasco</th>\n",
       "      <td>83</td>\n",
       "      <td>NaN</td>\n",
       "      <td>1600</td>\n",
       "    </tr>\n",
       "    <tr>\n",
       "      <th>Nikica Jelavic</th>\n",
       "      <td>73</td>\n",
       "      <td>NaN</td>\n",
       "      <td>1600</td>\n",
       "    </tr>\n",
       "    <tr>\n",
       "      <th>Givanildo Vieira de Souza</th>\n",
       "      <td>81</td>\n",
       "      <td>Hulk</td>\n",
       "      <td>1400</td>\n",
       "    </tr>\n",
       "    <tr>\n",
       "      <th>Anthony Modeste</th>\n",
       "      <td>81</td>\n",
       "      <td>NaN</td>\n",
       "      <td>1200</td>\n",
       "    </tr>\n",
       "    <tr>\n",
       "      <th>Duško Tošic</th>\n",
       "      <td>74</td>\n",
       "      <td>NaN</td>\n",
       "      <td>1100</td>\n",
       "    </tr>\n",
       "    <tr>\n",
       "      <th>...</th>\n",
       "      <td>...</td>\n",
       "      <td>...</td>\n",
       "      <td>...</td>\n",
       "    </tr>\n",
       "    <tr>\n",
       "      <th>Ocimar Almeida Júnior</th>\n",
       "      <td>75</td>\n",
       "      <td>Júnior Urso</td>\n",
       "      <td>450</td>\n",
       "    </tr>\n",
       "    <tr>\n",
       "      <th>Demba Ba</th>\n",
       "      <td>76</td>\n",
       "      <td>NaN</td>\n",
       "      <td>450</td>\n",
       "    </tr>\n",
       "    <tr>\n",
       "      <th>Ricardo Goulart Pereira</th>\n",
       "      <td>79</td>\n",
       "      <td>Ricardo Goulart</td>\n",
       "      <td>450</td>\n",
       "    </tr>\n",
       "    <tr>\n",
       "      <th>Jonatan Soriano Casas</th>\n",
       "      <td>77</td>\n",
       "      <td>Jonatan Soriano</td>\n",
       "      <td>450</td>\n",
       "    </tr>\n",
       "    <tr>\n",
       "      <th>Diego Tardelli Martins</th>\n",
       "      <td>76</td>\n",
       "      <td>Diego Tardelli</td>\n",
       "      <td>450</td>\n",
       "    </tr>\n",
       "    <tr>\n",
       "      <th>Graziano Pellè</th>\n",
       "      <td>78</td>\n",
       "      <td>NaN</td>\n",
       "      <td>450</td>\n",
       "    </tr>\n",
       "    <tr>\n",
       "      <th>Óscar Romero</th>\n",
       "      <td>76</td>\n",
       "      <td>NaN</td>\n",
       "      <td>450</td>\n",
       "    </tr>\n",
       "    <tr>\n",
       "      <th>Giovanni Moreno</th>\n",
       "      <td>78</td>\n",
       "      <td>NaN</td>\n",
       "      <td>450</td>\n",
       "    </tr>\n",
       "    <tr>\n",
       "      <th>Adrian Mierzejewski</th>\n",
       "      <td>75</td>\n",
       "      <td>NaN</td>\n",
       "      <td>450</td>\n",
       "    </tr>\n",
       "    <tr>\n",
       "      <th>Roger Krug Guedes</th>\n",
       "      <td>74</td>\n",
       "      <td>Roger Guedes</td>\n",
       "      <td>400</td>\n",
       "    </tr>\n",
       "  </tbody>\n",
       "</table>\n",
       "<p>48 rows × 3 columns</p>\n",
       "</div>"
      ],
      "text/plain": [
       "                                ocena          vzdevek  cena\n",
       "ime                                                         \n",
       "José Paulo Bezerra M. Júnior       85         Paulinho  8000\n",
       "Olívio da Rosa                     74              Ivo  3400\n",
       "Christian Bassogog                 74              NaN  3000\n",
       "Da Conceição Fernando Henrique     74      Fernandinho  2000\n",
       "Renato Ribeiro Calixto             74        Renatinho  1600\n",
       "Yannick Carrasco                   83              NaN  1600\n",
       "Nikica Jelavic                     73              NaN  1600\n",
       "Givanildo Vieira de Souza          81             Hulk  1400\n",
       "Anthony Modeste                    81              NaN  1200\n",
       "Duško Tošic                        74              NaN  1100\n",
       "...                               ...              ...   ...\n",
       "Ocimar Almeida Júnior              75      Júnior Urso   450\n",
       "Demba Ba                           76              NaN   450\n",
       "Ricardo Goulart Pereira            79  Ricardo Goulart   450\n",
       "Jonatan Soriano Casas              77  Jonatan Soriano   450\n",
       "Diego Tardelli Martins             76   Diego Tardelli   450\n",
       "Graziano Pellè                     78              NaN   450\n",
       "Óscar Romero                       76              NaN   450\n",
       "Giovanni Moreno                    78              NaN   450\n",
       "Adrian Mierzejewski                75              NaN   450\n",
       "Roger Krug Guedes                  74     Roger Guedes   400\n",
       "\n",
       "[48 rows x 3 columns]"
      ]
     },
     "execution_count": 16,
     "metadata": {},
     "output_type": "execute_result"
    }
   ],
   "source": [
    "igralci[igralci.id_lige == 2012].sort_values('cena', ascending=False).set_index('ime')[['ocena', 'vzdevek', 'cena']]"
   ]
  },
  {
   "cell_type": "markdown",
   "metadata": {},
   "source": [
    "Opazimo, da kratica CSL predstavlja Chinese super league. Lahko bi rekel, da sem presenečen nad podatkom, a obenem ta podatek ni težko razložiti. Kot sem že v opisu projekta povedal, da kljub temu, da so podatki iz video igre, so le ti prirejeni po resničnih igralcih, zato lahko opazimo njuno povezavo. Tako da ta podatek obrazložim s tem, da je Kitajska v nogomet vložila zelo veliko denarja, ter si zagotovila nekaj zelo dobrih igralcev, ki sodijo v sam vrh najbolših. Omenil pa bi tudi, da je teh igralcev vseeno le 48, kar pomeni, da v ligi še mnogo igralcev, ki v analizo ni bilo zajetih, saj sem zajel le prvih 3000 najbolših igralcev po oceni. Če bi objel vse igralce, bi bilo to povprečje mnogo nižje."
   ]
  },
  {
   "cell_type": "markdown",
   "metadata": {},
   "source": [
    "Podobno analizo, ki sem jo naredil zgoraj za posamezno ligo, bi lahko naredil še za vsako državo in klub posebej. Vendar, da se ne bom preveč ponavljal, bom pokazal le 10 z najvišjim povprečjem cene."
   ]
  },
  {
   "cell_type": "code",
   "execution_count": 17,
   "metadata": {},
   "outputs": [
    {
     "data": {
      "text/html": [
       "<div>\n",
       "<style scoped>\n",
       "    .dataframe tbody tr th:only-of-type {\n",
       "        vertical-align: middle;\n",
       "    }\n",
       "\n",
       "    .dataframe tbody tr th {\n",
       "        vertical-align: top;\n",
       "    }\n",
       "\n",
       "    .dataframe thead th {\n",
       "        text-align: right;\n",
       "    }\n",
       "</style>\n",
       "<table border=\"1\" class=\"dataframe\">\n",
       "  <thead>\n",
       "    <tr style=\"text-align: right;\">\n",
       "      <th></th>\n",
       "      <th></th>\n",
       "      <th>cena</th>\n",
       "    </tr>\n",
       "    <tr>\n",
       "      <th>id_države</th>\n",
       "      <th>država</th>\n",
       "      <th></th>\n",
       "    </tr>\n",
       "  </thead>\n",
       "  <tbody>\n",
       "    <tr>\n",
       "      <th>115</th>\n",
       "      <th>Gabon</th>\n",
       "      <td>40340.000000</td>\n",
       "    </tr>\n",
       "    <tr>\n",
       "      <th>50</th>\n",
       "      <th>Wales</th>\n",
       "      <td>30610.000000</td>\n",
       "    </tr>\n",
       "    <tr>\n",
       "      <th>111</th>\n",
       "      <th>Egypt</th>\n",
       "      <td>30100.000000</td>\n",
       "    </tr>\n",
       "    <tr>\n",
       "      <th>38</th>\n",
       "      <th>Portugal</th>\n",
       "      <td>22160.434783</td>\n",
       "    </tr>\n",
       "    <tr>\n",
       "      <th>7</th>\n",
       "      <th>Belgium</th>\n",
       "      <td>14073.275862</td>\n",
       "    </tr>\n",
       "    <tr>\n",
       "      <th>60</th>\n",
       "      <th>Uruguay</th>\n",
       "      <td>8061.764706</td>\n",
       "    </tr>\n",
       "    <tr>\n",
       "      <th>18</th>\n",
       "      <th>France</th>\n",
       "      <td>8025.107296</td>\n",
       "    </tr>\n",
       "    <tr>\n",
       "      <th>52</th>\n",
       "      <th>Argentina</th>\n",
       "      <td>6818.119266</td>\n",
       "    </tr>\n",
       "    <tr>\n",
       "      <th>54</th>\n",
       "      <th>Brazil</th>\n",
       "      <td>6647.014925</td>\n",
       "    </tr>\n",
       "    <tr>\n",
       "      <th>33</th>\n",
       "      <th>Moldova</th>\n",
       "      <td>4550.000000</td>\n",
       "    </tr>\n",
       "  </tbody>\n",
       "</table>\n",
       "</div>"
      ],
      "text/plain": [
       "                             cena\n",
       "id_države država                 \n",
       "115       Gabon      40340.000000\n",
       "50        Wales      30610.000000\n",
       "111       Egypt      30100.000000\n",
       "38        Portugal   22160.434783\n",
       "7         Belgium    14073.275862\n",
       "60        Uruguay     8061.764706\n",
       "18        France      8025.107296\n",
       "52        Argentina   6818.119266\n",
       "54        Brazil      6647.014925\n",
       "33        Moldova     4550.000000"
      ]
     },
     "execution_count": 17,
     "metadata": {},
     "output_type": "execute_result"
    }
   ],
   "source": [
    "igralci.groupby(['id_države', 'država'])[['cena']].mean().sort_values(by='cena', ascending=False)[:10]"
   ]
  },
  {
   "cell_type": "code",
   "execution_count": 18,
   "metadata": {},
   "outputs": [
    {
     "data": {
      "text/html": [
       "<div>\n",
       "<style scoped>\n",
       "    .dataframe tbody tr th:only-of-type {\n",
       "        vertical-align: middle;\n",
       "    }\n",
       "\n",
       "    .dataframe tbody tr th {\n",
       "        vertical-align: top;\n",
       "    }\n",
       "\n",
       "    .dataframe thead th {\n",
       "        text-align: right;\n",
       "    }\n",
       "</style>\n",
       "<table border=\"1\" class=\"dataframe\">\n",
       "  <thead>\n",
       "    <tr style=\"text-align: right;\">\n",
       "      <th></th>\n",
       "      <th></th>\n",
       "      <th>cena</th>\n",
       "    </tr>\n",
       "    <tr>\n",
       "      <th>id_kluba</th>\n",
       "      <th>klub</th>\n",
       "      <th></th>\n",
       "    </tr>\n",
       "  </thead>\n",
       "  <tbody>\n",
       "    <tr>\n",
       "      <th>45</th>\n",
       "      <th>Juventus</th>\n",
       "      <td>136938.095238</td>\n",
       "    </tr>\n",
       "    <tr>\n",
       "      <th>241</th>\n",
       "      <th>FC Barcelona</th>\n",
       "      <td>69425.000000</td>\n",
       "    </tr>\n",
       "    <tr>\n",
       "      <th>73</th>\n",
       "      <th>Paris Saint-Germain</th>\n",
       "      <td>58328.947368</td>\n",
       "    </tr>\n",
       "    <tr>\n",
       "      <th>243</th>\n",
       "      <th>Real Madrid</th>\n",
       "      <td>54342.500000</td>\n",
       "    </tr>\n",
       "    <tr>\n",
       "      <th>10</th>\n",
       "      <th>Manchester City</th>\n",
       "      <td>35497.500000</td>\n",
       "    </tr>\n",
       "    <tr>\n",
       "      <th>5</th>\n",
       "      <th>Chelsea</th>\n",
       "      <td>31893.478261</td>\n",
       "    </tr>\n",
       "    <tr>\n",
       "      <th>9</th>\n",
       "      <th>Liverpool</th>\n",
       "      <td>25384.090909</td>\n",
       "    </tr>\n",
       "    <tr>\n",
       "      <th>11</th>\n",
       "      <th>Manchester United</th>\n",
       "      <td>23015.909091</td>\n",
       "    </tr>\n",
       "    <tr>\n",
       "      <th>240</th>\n",
       "      <th>Atlético Madrid</th>\n",
       "      <td>19644.444444</td>\n",
       "    </tr>\n",
       "    <tr>\n",
       "      <th>101145</th>\n",
       "      <th>Kashiwa Reysol</th>\n",
       "      <td>15450.000000</td>\n",
       "    </tr>\n",
       "  </tbody>\n",
       "</table>\n",
       "</div>"
      ],
      "text/plain": [
       "                                       cena\n",
       "id_kluba klub                              \n",
       "45       Juventus             136938.095238\n",
       "241      FC Barcelona          69425.000000\n",
       "73       Paris Saint-Germain   58328.947368\n",
       "243      Real Madrid           54342.500000\n",
       "10       Manchester City       35497.500000\n",
       "5        Chelsea               31893.478261\n",
       "9        Liverpool             25384.090909\n",
       "11       Manchester United     23015.909091\n",
       "240      Atlético Madrid       19644.444444\n",
       "101145   Kashiwa Reysol        15450.000000"
      ]
     },
     "execution_count": 18,
     "metadata": {},
     "output_type": "execute_result"
    }
   ],
   "source": [
    "igralci.groupby(['id_kluba', 'klub'])[['cena']].mean().sort_values(by='cena', ascending=False)[:10]"
   ]
  },
  {
   "cell_type": "markdown",
   "metadata": {},
   "source": [
    "Pozicija\n",
    "-----------\n",
    "\n",
    "V tem razdelku bom gledal, gledal igralce kot skupek tistih, ki igrajo na istih pozicijah, ter le iz tega poskušal ugotoviti nekaj že zastavljenih predpostavk.\n",
    "Pa začnimo s tabelo, ki prikazuje povprečne podatke značilne za vsako pozicijo posebej."
   ]
  },
  {
   "cell_type": "code",
   "execution_count": 19,
   "metadata": {},
   "outputs": [
    {
     "data": {
      "text/html": [
       "<div>\n",
       "<style scoped>\n",
       "    .dataframe tbody tr th:only-of-type {\n",
       "        vertical-align: middle;\n",
       "    }\n",
       "\n",
       "    .dataframe tbody tr th {\n",
       "        vertical-align: top;\n",
       "    }\n",
       "\n",
       "    .dataframe thead th {\n",
       "        text-align: right;\n",
       "    }\n",
       "</style>\n",
       "<table border=\"1\" class=\"dataframe\">\n",
       "  <thead>\n",
       "    <tr style=\"text-align: right;\">\n",
       "      <th></th>\n",
       "      <th>cena</th>\n",
       "      <th>dribling</th>\n",
       "      <th>fizika</th>\n",
       "      <th>hitrost</th>\n",
       "      <th>obramba</th>\n",
       "      <th>...</th>\n",
       "      <th>popularnost</th>\n",
       "      <th>spretnost</th>\n",
       "      <th>strel</th>\n",
       "      <th>višina</th>\n",
       "      <th>šibka_noga</th>\n",
       "    </tr>\n",
       "    <tr>\n",
       "      <th>pozicija</th>\n",
       "      <th></th>\n",
       "      <th></th>\n",
       "      <th></th>\n",
       "      <th></th>\n",
       "      <th></th>\n",
       "      <th></th>\n",
       "      <th></th>\n",
       "      <th></th>\n",
       "      <th></th>\n",
       "      <th></th>\n",
       "      <th></th>\n",
       "    </tr>\n",
       "  </thead>\n",
       "  <tbody>\n",
       "    <tr>\n",
       "      <th>CAM</th>\n",
       "      <td>3835.964912</td>\n",
       "      <td>77.298246</td>\n",
       "      <td>62.714912</td>\n",
       "      <td>72.175439</td>\n",
       "      <td>46.982456</td>\n",
       "      <td>...</td>\n",
       "      <td>40.092105</td>\n",
       "      <td>3.578947</td>\n",
       "      <td>70.842105</td>\n",
       "      <td>177.039474</td>\n",
       "      <td>3.464912</td>\n",
       "    </tr>\n",
       "    <tr>\n",
       "      <th>CB</th>\n",
       "      <td>2868.833333</td>\n",
       "      <td>58.428333</td>\n",
       "      <td>76.303333</td>\n",
       "      <td>59.793333</td>\n",
       "      <td>76.025000</td>\n",
       "      <td>...</td>\n",
       "      <td>32.213333</td>\n",
       "      <td>2.078333</td>\n",
       "      <td>42.656667</td>\n",
       "      <td>186.961667</td>\n",
       "      <td>2.896667</td>\n",
       "    </tr>\n",
       "    <tr>\n",
       "      <th>CDM</th>\n",
       "      <td>2662.372881</td>\n",
       "      <td>69.722034</td>\n",
       "      <td>76.430508</td>\n",
       "      <td>62.016949</td>\n",
       "      <td>73.562712</td>\n",
       "      <td>...</td>\n",
       "      <td>37.277966</td>\n",
       "      <td>2.745763</td>\n",
       "      <td>58.383051</td>\n",
       "      <td>181.430508</td>\n",
       "      <td>3.094915</td>\n",
       "    </tr>\n",
       "    <tr>\n",
       "      <th>CF</th>\n",
       "      <td>33689.655172</td>\n",
       "      <td>80.931034</td>\n",
       "      <td>62.862069</td>\n",
       "      <td>78.758621</td>\n",
       "      <td>39.655172</td>\n",
       "      <td>...</td>\n",
       "      <td>241.620690</td>\n",
       "      <td>3.758621</td>\n",
       "      <td>75.655172</td>\n",
       "      <td>176.586207</td>\n",
       "      <td>3.620690</td>\n",
       "    </tr>\n",
       "    <tr>\n",
       "      <th>CM</th>\n",
       "      <td>2642.462312</td>\n",
       "      <td>75.452261</td>\n",
       "      <td>70.934673</td>\n",
       "      <td>66.469849</td>\n",
       "      <td>67.407035</td>\n",
       "      <td>...</td>\n",
       "      <td>45.145729</td>\n",
       "      <td>3.251256</td>\n",
       "      <td>67.635678</td>\n",
       "      <td>179.761307</td>\n",
       "      <td>3.326633</td>\n",
       "    </tr>\n",
       "    <tr>\n",
       "      <th>LB</th>\n",
       "      <td>2384.729064</td>\n",
       "      <td>72.743842</td>\n",
       "      <td>72.251232</td>\n",
       "      <td>76.847291</td>\n",
       "      <td>72.487685</td>\n",
       "      <td>...</td>\n",
       "      <td>25.438424</td>\n",
       "      <td>3.024631</td>\n",
       "      <td>57.147783</td>\n",
       "      <td>178.561576</td>\n",
       "      <td>2.901478</td>\n",
       "    </tr>\n",
       "    <tr>\n",
       "      <th>LM</th>\n",
       "      <td>1825.797872</td>\n",
       "      <td>77.994681</td>\n",
       "      <td>64.074468</td>\n",
       "      <td>81.053191</td>\n",
       "      <td>43.308511</td>\n",
       "      <td>...</td>\n",
       "      <td>41.500000</td>\n",
       "      <td>3.526596</td>\n",
       "      <td>70.542553</td>\n",
       "      <td>176.994681</td>\n",
       "      <td>3.452128</td>\n",
       "    </tr>\n",
       "    <tr>\n",
       "      <th>LW</th>\n",
       "      <td>15385.256410</td>\n",
       "      <td>80.153846</td>\n",
       "      <td>62.012821</td>\n",
       "      <td>82.551282</td>\n",
       "      <td>40.423077</td>\n",
       "      <td>...</td>\n",
       "      <td>111.987179</td>\n",
       "      <td>3.705128</td>\n",
       "      <td>72.256410</td>\n",
       "      <td>175.923077</td>\n",
       "      <td>3.435897</td>\n",
       "    </tr>\n",
       "    <tr>\n",
       "      <th>LWB</th>\n",
       "      <td>955.000000</td>\n",
       "      <td>73.600000</td>\n",
       "      <td>71.700000</td>\n",
       "      <td>82.100000</td>\n",
       "      <td>71.600000</td>\n",
       "      <td>...</td>\n",
       "      <td>10.900000</td>\n",
       "      <td>2.900000</td>\n",
       "      <td>54.100000</td>\n",
       "      <td>179.800000</td>\n",
       "      <td>2.600000</td>\n",
       "    </tr>\n",
       "    <tr>\n",
       "      <th>RB</th>\n",
       "      <td>1380.281690</td>\n",
       "      <td>72.065728</td>\n",
       "      <td>72.450704</td>\n",
       "      <td>77.023474</td>\n",
       "      <td>72.812207</td>\n",
       "      <td>...</td>\n",
       "      <td>19.854460</td>\n",
       "      <td>2.948357</td>\n",
       "      <td>54.600939</td>\n",
       "      <td>179.173709</td>\n",
       "      <td>3.093897</td>\n",
       "    </tr>\n",
       "    <tr>\n",
       "      <th>RM</th>\n",
       "      <td>889.898990</td>\n",
       "      <td>77.373737</td>\n",
       "      <td>63.282828</td>\n",
       "      <td>80.459596</td>\n",
       "      <td>44.085859</td>\n",
       "      <td>...</td>\n",
       "      <td>19.606061</td>\n",
       "      <td>3.444444</td>\n",
       "      <td>69.631313</td>\n",
       "      <td>176.767677</td>\n",
       "      <td>3.297980</td>\n",
       "    </tr>\n",
       "    <tr>\n",
       "      <th>RW</th>\n",
       "      <td>12726.250000</td>\n",
       "      <td>80.025000</td>\n",
       "      <td>61.537500</td>\n",
       "      <td>83.312500</td>\n",
       "      <td>38.325000</td>\n",
       "      <td>...</td>\n",
       "      <td>134.750000</td>\n",
       "      <td>3.712500</td>\n",
       "      <td>71.375000</td>\n",
       "      <td>176.475000</td>\n",
       "      <td>3.425000</td>\n",
       "    </tr>\n",
       "    <tr>\n",
       "      <th>RWB</th>\n",
       "      <td>950.000000</td>\n",
       "      <td>75.142857</td>\n",
       "      <td>72.857143</td>\n",
       "      <td>78.285714</td>\n",
       "      <td>73.000000</td>\n",
       "      <td>...</td>\n",
       "      <td>15.428571</td>\n",
       "      <td>3.000000</td>\n",
       "      <td>55.714286</td>\n",
       "      <td>180.142857</td>\n",
       "      <td>3.142857</td>\n",
       "    </tr>\n",
       "    <tr>\n",
       "      <th>ST</th>\n",
       "      <td>8589.534884</td>\n",
       "      <td>73.253700</td>\n",
       "      <td>71.856237</td>\n",
       "      <td>72.234672</td>\n",
       "      <td>36.327696</td>\n",
       "      <td>...</td>\n",
       "      <td>70.002114</td>\n",
       "      <td>3.190275</td>\n",
       "      <td>75.319239</td>\n",
       "      <td>182.805497</td>\n",
       "      <td>3.321353</td>\n",
       "    </tr>\n",
       "  </tbody>\n",
       "</table>\n",
       "<p>14 rows × 12 columns</p>\n",
       "</div>"
      ],
      "text/plain": [
       "                  cena   dribling     fizika    hitrost    obramba  \\\n",
       "pozicija                                                             \n",
       "CAM        3835.964912  77.298246  62.714912  72.175439  46.982456   \n",
       "CB         2868.833333  58.428333  76.303333  59.793333  76.025000   \n",
       "CDM        2662.372881  69.722034  76.430508  62.016949  73.562712   \n",
       "CF        33689.655172  80.931034  62.862069  78.758621  39.655172   \n",
       "CM         2642.462312  75.452261  70.934673  66.469849  67.407035   \n",
       "LB         2384.729064  72.743842  72.251232  76.847291  72.487685   \n",
       "LM         1825.797872  77.994681  64.074468  81.053191  43.308511   \n",
       "LW        15385.256410  80.153846  62.012821  82.551282  40.423077   \n",
       "LWB         955.000000  73.600000  71.700000  82.100000  71.600000   \n",
       "RB         1380.281690  72.065728  72.450704  77.023474  72.812207   \n",
       "RM          889.898990  77.373737  63.282828  80.459596  44.085859   \n",
       "RW        12726.250000  80.025000  61.537500  83.312500  38.325000   \n",
       "RWB         950.000000  75.142857  72.857143  78.285714  73.000000   \n",
       "ST         8589.534884  73.253700  71.856237  72.234672  36.327696   \n",
       "\n",
       "             ...      popularnost  spretnost      strel      višina  \\\n",
       "pozicija     ...                                                      \n",
       "CAM          ...        40.092105   3.578947  70.842105  177.039474   \n",
       "CB           ...        32.213333   2.078333  42.656667  186.961667   \n",
       "CDM          ...        37.277966   2.745763  58.383051  181.430508   \n",
       "CF           ...       241.620690   3.758621  75.655172  176.586207   \n",
       "CM           ...        45.145729   3.251256  67.635678  179.761307   \n",
       "LB           ...        25.438424   3.024631  57.147783  178.561576   \n",
       "LM           ...        41.500000   3.526596  70.542553  176.994681   \n",
       "LW           ...       111.987179   3.705128  72.256410  175.923077   \n",
       "LWB          ...        10.900000   2.900000  54.100000  179.800000   \n",
       "RB           ...        19.854460   2.948357  54.600939  179.173709   \n",
       "RM           ...        19.606061   3.444444  69.631313  176.767677   \n",
       "RW           ...       134.750000   3.712500  71.375000  176.475000   \n",
       "RWB          ...        15.428571   3.000000  55.714286  180.142857   \n",
       "ST           ...        70.002114   3.190275  75.319239  182.805497   \n",
       "\n",
       "          šibka_noga  \n",
       "pozicija              \n",
       "CAM         3.464912  \n",
       "CB          2.896667  \n",
       "CDM         3.094915  \n",
       "CF          3.620690  \n",
       "CM          3.326633  \n",
       "LB          2.901478  \n",
       "LM          3.452128  \n",
       "LW          3.435897  \n",
       "LWB         2.600000  \n",
       "RB          3.093897  \n",
       "RM          3.297980  \n",
       "RW          3.425000  \n",
       "RWB         3.142857  \n",
       "ST          3.321353  \n",
       "\n",
       "[14 rows x 12 columns]"
      ]
     },
     "execution_count": 19,
     "metadata": {},
     "output_type": "execute_result"
    }
   ],
   "source": [
    "opazovani_igralci_po_poziciji = igralci[igralci.columns.difference(['id_kluba', 'id_države', 'id_lige'])].groupby('pozicija').mean()\n",
    "opazovani_igralci_po_poziciji"
   ]
  },
  {
   "cell_type": "markdown",
   "metadata": {},
   "source": [
    "Tu je na prvi poglej moč opaziti, da se cena in višina med različnimi položaji zelo spreminja, zato bi bilo zanimivo pogledati, kako se cena spreminja od pozicije ter videti ali je višina kakorkoli pomembna za pozicijo. Pa začnimo z slednjim."
   ]
  },
  {
   "cell_type": "code",
   "execution_count": 20,
   "metadata": {
    "scrolled": true
   },
   "outputs": [
    {
     "data": {
      "text/plain": [
       "pozicija\n",
       "CB     186.961667\n",
       "ST     182.805497\n",
       "CDM    181.430508\n",
       "RWB    180.142857\n",
       "LWB    179.800000\n",
       "CM     179.761307\n",
       "RB     179.173709\n",
       "LB     178.561576\n",
       "CAM    177.039474\n",
       "LM     176.994681\n",
       "RM     176.767677\n",
       "CF     176.586207\n",
       "RW     176.475000\n",
       "LW     175.923077\n",
       "Name: višina, dtype: float64"
      ]
     },
     "execution_count": 20,
     "metadata": {},
     "output_type": "execute_result"
    }
   ],
   "source": [
    "opazovani_igralci_po_poziciji['višina'].sort_values(ascending=False)"
   ]
  },
  {
   "cell_type": "markdown",
   "metadata": {},
   "source": [
    "Iz tega podatka je zelo razločno videti, da so obrambni igralci v povprečju višji. Za nekoga, ki te oznake vidi prvič, naj omenim (kljub zgornji predstavitvi oznak, lahko pride do nerazumevanja), da k obrambnim igralcem spadajo oznake CB, CDM, RWB, LWB, RB, LB. Toda videti je tudi, da so napadalci v povprečju visoki. Iz česar bi lahko sklepal, da če visok igralec ne igra v napadu, bo vrjetno zastopal položaj v obrambi. No pa poglejmo še kako je višina igralca pomembna za njegovo ceno."
   ]
  },
  {
   "cell_type": "code",
   "execution_count": 21,
   "metadata": {},
   "outputs": [
    {
     "data": {
      "text/plain": [
       "<matplotlib.axes._subplots.AxesSubplot at 0x7f2a578f82b0>"
      ]
     },
     "execution_count": 21,
     "metadata": {},
     "output_type": "execute_result"
    },
    {
     "data": {
      "image/png": "[encoded data removed]",
      "text/plain": [
       "<Figure size 432x288 with 1 Axes>"
      ]
     },
     "metadata": {
      "needs_background": "light"
     },
     "output_type": "display_data"
    }
   ],
   "source": [
    "igralci[igralci.cena < 1000000].plot(x='višina', y='cena', kind='scatter')"
   ]
  },
  {
   "cell_type": "markdown",
   "metadata": {},
   "source": [
    "Nekako, ni prav dobro razvidno, če je kakšna povezava, bi pa lahko rekli, da so najvrednejši igralci visoki približno 180 cm, kar pa ni prav nič presenetljivega, saj ta višina velja za neko povprečje v nogometu, kar pa tudi prikazuje zgostitev točk."
   ]
  },
  {
   "cell_type": "code",
   "execution_count": 22,
   "metadata": {},
   "outputs": [
    {
     "data": {
      "text/plain": [
       "pozicija\n",
       "CF     33689.655172\n",
       "LW     15385.256410\n",
       "RW     12726.250000\n",
       "ST      8589.534884\n",
       "CAM     3835.964912\n",
       "CB      2868.833333\n",
       "CDM     2662.372881\n",
       "CM      2642.462312\n",
       "LB      2384.729064\n",
       "LM      1825.797872\n",
       "RB      1380.281690\n",
       "LWB      955.000000\n",
       "RWB      950.000000\n",
       "RM       889.898990\n",
       "Name: cena, dtype: float64"
      ]
     },
     "execution_count": 22,
     "metadata": {},
     "output_type": "execute_result"
    }
   ],
   "source": [
    "opazovani_igralci_po_poziciji['cena'].sort_values(ascending=False)"
   ]
  },
  {
   "cell_type": "markdown",
   "metadata": {},
   "source": [
    "No, tukaj pa je očitno razvidno, da so igralci v napadalnih položajih krepko vrednejši. Omenimo še enkrat, da položaji, kot so CF, LW, RW v igri sami nimajo veliko zastopajočih igralcev, vendar le te pa so po tabeli sklepajoč v poprečju zelo vredni."
   ]
  },
  {
   "cell_type": "markdown",
   "metadata": {},
   "source": [
    "Zanimivo bi bilo pogledati, kako se spreminjajo vrednosti sposobnosti igralca (med katere štejem oceno, hitrost, dribling, strel, obrambo, fiziko, podaje)."
   ]
  },
  {
   "cell_type": "code",
   "execution_count": 23,
   "metadata": {},
   "outputs": [
    {
     "data": {
      "text/plain": [
       "<matplotlib.legend.Legend at 0x7f2a57869c88>"
      ]
     },
     "execution_count": 23,
     "metadata": {},
     "output_type": "execute_result"
    },
    {
     "data": {
      "image/png": "[encoded data removed]",
      "text/plain": [
       "<Figure size 432x288 with 1 Axes>"
      ]
     },
     "metadata": {
      "needs_background": "light"
     },
     "output_type": "display_data"
    }
   ],
   "source": [
    "test_igralci = igralci.groupby('pozicija').mean()[['ocena', 'hitrost', 'dribling', 'strel', 'obramba', 'fizika', 'podaje']]\n",
    "test_igralci.plot(kind='bar')\n",
    "plt.legend(loc='center left', bbox_to_anchor=(1.0, 0.5)) # Prestavim legendo iz tabele"
   ]
  },
  {
   "cell_type": "code",
   "execution_count": 24,
   "metadata": {},
   "outputs": [
    {
     "data": {
      "text/plain": [
       "<matplotlib.axes._subplots.AxesSubplot at 0x7f2a576df198>"
      ]
     },
     "execution_count": 24,
     "metadata": {},
     "output_type": "execute_result"
    },
    {
     "data": {
      "image/png": "[encoded data removed]",
      "text/plain": [
       "<Figure size 432x288 with 1 Axes>"
      ]
     },
     "metadata": {
      "needs_background": "light"
     },
     "output_type": "display_data"
    }
   ],
   "source": [
    "# Narišem še boxplot, da je lažje primerjati, ocene\n",
    "test_igralci.boxplot()"
   ]
  },
  {
   "cell_type": "markdown",
   "metadata": {},
   "source": [
    "Iz zgornjih dveh grafikonov bi lahko sklepali, da sta dribling in podaje najosnovnejši lastnosti vsakega igralca, saj sta le ti v povprečju v najmanjšem razmiku med vrednostmi. Po drugi strani pa je videti, da imata strel in obramba le tega največjega. Tu pa je sklep ravno nasprotem, po pogledu na zgornjo tabelo je videti, da je obramba visoka na obrambnih položajih, kar bi pričakovali, pri ostalih pa ta ravno ne blesti. Ravno obratno pa je strel, kajti ta je visok pri vseh napadalnih položajih in je zelo nizka pri obrambnih. Za hitrost pa bi si upal sklepati, da je med vsemi najpomembnejša, kajti je edina, katere povprečje je višje od povprečja ocene. Na srečo, pa sem to igro izkusil že na lstni koži in lahko iz prve roke potrdim to domnevo. Vendar, kljub moji izkušenosti nekaterim to potrdilo ne pomeni kaj dosti (pa bi moralo), zato upam, da vas prepriča, analiza, ki jo bom naredil v nadaljevanju naloge, da ravno hitrost ena izmed tistih, ki najbolj vpliva na ceno igralcev."
   ]
  },
  {
   "cell_type": "markdown",
   "metadata": {},
   "source": [
    "Cena igralcev\n",
    "--------------------"
   ]
  },
  {
   "cell_type": "markdown",
   "metadata": {},
   "source": [
    "Kot sem že zgoraj veliko podatkov primerjal v odvisnosti s ceno, bi rad zdaj ugotovil, katera na to najbolj vpliva."
   ]
  },
  {
   "cell_type": "code",
   "execution_count": 25,
   "metadata": {
    "scrolled": false
   },
   "outputs": [],
   "source": [
    "sposobnosti = ['cena', 'ocena', 'hitrost', 'dribling', 'strel', 'podaje', 'obramba', 'fizika']\n",
    "'''Ker sem opazil, da le nekaj igralcev -in to izrazito- presega mejo cene 500 000 bom \n",
    "le te izločil iz obdelave zaradi preglednosti podatkov''' \n",
    "def izrisi_graf(zacetek, konec, meja_cene=1000000):\n",
    "    ax = igralci[igralci.cena < meja_cene].plot(x=sposobnosti[zacetek], y='cena', kind='scatter', label=sposobnosti[zacetek])\n",
    "    for i, s in enumerate(sposobnosti[(zacetek + 1):konec]):\n",
    "        igralci[igralci.cena < meja_cene].plot(x=s, y='cena', kind='scatter', ax=ax, color='C%s' % (i + 1), label=s)\n",
    "    ax.set_xlabel(\"ocena\")"
   ]
  },
  {
   "cell_type": "code",
   "execution_count": 26,
   "metadata": {
    "scrolled": false
   },
   "outputs": [
    {
     "data": {
      "image/png": "[encoded data removed]",
      "text/plain": [
       "<Figure size 432x288 with 1 Axes>"
      ]
     },
     "metadata": {
      "needs_background": "light"
     },
     "output_type": "display_data"
    }
   ],
   "source": [
    "izrisi_graf(2, 4)"
   ]
  },
  {
   "cell_type": "code",
   "execution_count": 27,
   "metadata": {},
   "outputs": [
    {
     "data": {
      "image/png": "[encoded data removed]",
      "text/plain": [
       "<Figure size 432x288 with 1 Axes>"
      ]
     },
     "metadata": {
      "needs_background": "light"
     },
     "output_type": "display_data"
    }
   ],
   "source": [
    "izrisi_graf(4, 6)"
   ]
  },
  {
   "cell_type": "code",
   "execution_count": 28,
   "metadata": {},
   "outputs": [
    {
     "data": {
      "image/png": "[encoded data removed]",
      "text/plain": [
       "<Figure size 432x288 with 1 Axes>"
      ]
     },
     "metadata": {
      "needs_background": "light"
     },
     "output_type": "display_data"
    }
   ],
   "source": [
    "izrisi_graf(6,8)"
   ]
  },
  {
   "cell_type": "markdown",
   "metadata": {},
   "source": [
    "Menim, da je iz vseh zgornjih grafikonov vidno, da sta fizika in obramba najnižji vrednosti, pri tistih, ki imajo visoke cene. Lahko sklepam, da le ti tudi najmanj vplivata na ceno igralcev.\n",
    "Naslednja opazka je, da so ravno strel, hitrost in dribling najpomembnejše, če gledamo na vpliv, ki ga imajo na ceno. Ker pa so ravno te lastnosti značilne za napadalce,sklepamo da so napadalci tisti, ki imajo višje cene. Ta ugotovitev, pa se sklada s tabelo, v kateri smo izračunali povprečje cen po položajih.\n",
    "Zanimiv podatek je tudi ta, da vsakemu igralcu, kateremu se hitrost približa 90, cena izjemno naraste. Prav tako bi lahko videli, da ima ravno grafikon s prikazom hitrosti najmanjšo zgostitev pri nizkih cenah. Iz tega bi si upal povedati, da je hitrost najpomembnejša lastnost, ki vpliva na ceno."
   ]
  },
  {
   "cell_type": "markdown",
   "metadata": {},
   "source": [
    "V tej analizi pa manjkata lastnosti (spretnost, šibka noga), kateri razpon ocen se ne sklada z ostalimi, zato bom te gledal posebej. "
   ]
  },
  {
   "cell_type": "code",
   "execution_count": 29,
   "metadata": {},
   "outputs": [
    {
     "data": {
      "text/plain": [
       "<matplotlib.axes._subplots.AxesSubplot at 0x7f2a57561cc0>"
      ]
     },
     "execution_count": 29,
     "metadata": {},
     "output_type": "execute_result"
    },
    {
     "data": {
      "image/png": "[encoded data removed]",
      "text/plain": [
       "<Figure size 432x288 with 1 Axes>"
      ]
     },
     "metadata": {
      "needs_background": "light"
     },
     "output_type": "display_data"
    }
   ],
   "source": [
    "igralci.plot(x='spretnost', y='cena', kind='scatter')"
   ]
  },
  {
   "cell_type": "code",
   "execution_count": 30,
   "metadata": {},
   "outputs": [
    {
     "data": {
      "text/plain": [
       "<matplotlib.axes._subplots.AxesSubplot at 0x7f2a574687f0>"
      ]
     },
     "execution_count": 30,
     "metadata": {},
     "output_type": "execute_result"
    },
    {
     "data": {
      "image/png": "[encoded data removed]",
      "text/plain": [
       "<Figure size 432x288 with 1 Axes>"
      ]
     },
     "metadata": {
      "needs_background": "light"
     },
     "output_type": "display_data"
    }
   ],
   "source": [
    "igralci.plot(x='šibka_noga', y='cena', kind='scatter')"
   ]
  },
  {
   "cell_type": "markdown",
   "metadata": {},
   "source": [
    "Opaziti je, da ti dva podatka nimata takega vpliva na ceno. Razen izjem, bi rekel, da igralci z oceno šibke noge in spretnosti med 3 in 5 dosegajo približno enake cene. le ti z ocenami 1 in 2 pa je ocena občutno nižja. Zaradi teh opazk je težko narediti kakšen sklep, razen tega, da te ocene nimajo posebnega vpliva."
   ]
  },
  {
   "cell_type": "markdown",
   "metadata": {},
   "source": [
    "Zaključek\n",
    "--------------\n",
    "\n",
    "V projektni nalogi sem prišel, do nekaterih zanimivih dognanj, vendar vsa v meji mojih pričakovanj. Lahko bi rekel, da to, verjetno zato, ker imam s to igro veliko izkušenj, kar mi je tudi pomagalo pri obravnavi podatkov, da sem lažje prišel do raznih sklepov.  \n",
    "Za konec pa bi se samo še rad zahvalil, ker ste si vzeli čas in prebrali mojo projektno nalogo, in upam da vam je bila všeč."
   ]
  }
 ],
 "metadata": {
  "kernelspec": {
   "display_name": "Python 3",
   "language": "python",
   "name": "python3"
  },
  "language_info": {
   "codemirror_mode": {
    "name": "ipython",
    "version": 3
   },
   "file_extension": ".py",
   "mimetype": "text/x-python",
   "name": "python",
   "nbconvert_exporter": "python",
   "pygments_lexer": "ipython3",
   "version": "3.6.6"
  }
 },
 "nbformat": 4,
 "nbformat_minor": 2
}
